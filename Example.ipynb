{
 "cells": [
  {
   "cell_type": "code",
   "execution_count": 16,
   "metadata": {},
   "outputs": [
    {
     "name": "stdout",
     "output_type": "stream",
     "text": [
      "[0.48573, 0.42457, 0.35307, 0.36111, 0.34448, 0.33349, 0.30631, 0.29045, 0.27779, 0.25582, 0.23003, 0.20241, 0.19218, 0.17922, 0.16483, 0.15444, 0.14803, 0.1474, 0.14586, 0.13917, 0.13377, 0.13244, 0.12718, 0.12124, 0.11434, 0.10651, 0.10049, 0.09235, 0.08452, 0.07576, 0.06678, 0.05714, 0.04487, 0.03623, 0.02483, 0.0132, 0.00194, -0.01206, -0.02805, -0.04388, -0.05745, -0.07457, -0.09092, -0.1075, -0.12558, -0.14649, -0.16568, -0.18445, -0.20935, -0.23118, -0.2522, -0.2781, -0.30441, -0.32515, -0.35631, -0.38707, -0.40806, -0.44171, -0.47725, -0.49242, -0.53466, -0.5868, -0.57825, -0.63421, -0.70323, -0.67913, -0.67051, -0.69578, -0.79432, -0.7649, -0.72243, -0.77546, -0.73463, -0.7105, -0.7161, -0.66493, -0.63198, -0.61093, -0.55028, -0.51358, -0.47106, -0.41587, -0.36271, -0.30403, -0.2298, -0.1616, -0.07993, 0.01037, 0.10398, 0.20285, 0.32268, 0.4373, 0.5581, 0.70261, 0.80203, 0.91004, 0.99209, 0.96199, 0.77824, -0.2695, 0.34822, 0.17304, -1.07019, -1.20072, -1.03273, -0.77689, -0.53941, -0.55828, -0.50741, -0.44809, -0.40401, -0.37729, -0.34208, -0.31344, -0.28859, -0.26395, -0.24626, -0.22489, -0.20751, -0.19162, -0.17693, -0.16852, -0.16003, -0.14912, -0.14701, -0.14037, -0.13835, -0.13348, -0.13601, -0.13236, -0.1347, -0.13227, -0.1349, -0.13584, -0.13787, -0.13659, -0.14015, -0.14067, -0.1403, -0.14378, -0.14425, -0.14277, -0.14468, -0.14786, -0.14523, -0.14568, -0.15128, -0.15516, -0.14513, -0.14321, -0.14483, -0.15776, -0.15744, -0.15143, -0.15151, -0.15676, -0.15351, -0.15382, -0.15761, -0.15566, -0.15437, -0.15756, -0.15554, -0.15272, -0.15355, -0.15102, -0.14621, -0.14203, -0.14101, -0.13457, -0.12853, -0.12453, -0.11806, -0.10882, -0.10329, -0.09693, -0.08601, -0.07657, -0.0698, -0.05989, -0.04783, -0.03748, -0.02948, -0.0186, -0.00582, 0.01817, 0.04812, 0.06846, 0.09993, 0.15448, 0.19118, 0.21855, 0.24463, 0.28205, 0.31119, 0.33606, 0.3428, 0.39343, 0.48573]\n"
     ]
    },
    {
     "data": {
      "image/png": "[encoded data removed]",
      "text/plain": [
       "<Figure size 432x288 with 1 Axes>"
      ]
     },
     "metadata": {
      "needs_background": "light"
     },
     "output_type": "display_data"
    }
   ],
   "source": [
    "from Super_xfoil import xfoil\n",
    "from zipfile import ZipFile\n",
    "import os\n",
    "import random\n",
    "\n",
    "database_path = os.getcwd() + r'\\\\Super_xfoil\\Database.zip'\n",
    "code_path = os.getcwd()\n",
    "\n",
    "z = ZipFile(database_path, 'r')\n",
    "data_base = z.namelist()\n",
    "\n",
    "foil = random.choice(data_base)\n",
    "z.extract(foil, code_path)\n",
    "foil = foil[0:-4]\n",
    "\n",
    "pts = 100  # number of points to create\n",
    "Re = 200000  # Reynolds number\n",
    "Mach = 0  # Mach number\n",
    "N_crit = 8.1  # Critical boundary layer interaction\n",
    "Alpha = 0  # Angle of attack\n",
    "\n",
    "\n",
    "(new_x, new_y) = xfoil.new_foil(foil, pts)\n",
    "\n",
    "cp = xfoil.cp_fun(foil, Re, Mach, N_crit, Alpha)\n",
    "\n",
    "print(cp)\n",
    "xfoil.plotting(new_x, new_y, foil)"
   ]
  },
  {
   "cell_type": "code",
   "execution_count": null,
   "metadata": {},
   "outputs": [],
   "source": []
  }
 ],
 "metadata": {
  "kernelspec": {
   "display_name": "Python 3",
   "language": "python",
   "name": "python3"
  },
  "language_info": {
   "codemirror_mode": {
    "name": "ipython",
    "version": 3
   },
   "file_extension": ".py",
   "mimetype": "text/x-python",
   "name": "python",
   "nbconvert_exporter": "python",
   "pygments_lexer": "ipython3",
   "version": "3.7.6"
  }
 },
 "nbformat": 4,
 "nbformat_minor": 4
}
